{
 "cells": [
  {
   "cell_type": "markdown",
   "metadata": {},
   "source": [
    "# <center>Laboratorium 1 Metod Numerycznych<br />Sprawozdanie</center>"
   ]
  },
  {
   "cell_type": "markdown",
   "metadata": {},
   "source": [
    "<a id='zad1'></a>\n",
    "***Zadanie 1.***   \n",
    "Oblicz wyrażenia:\n",
    "  \n",
    "$k = 1240\\cdot\\sqrt{7}$  \n",
    "$m = 4467$  \n",
    "$l = 2j$  \n",
    "$d = k+m$  \n",
    "$c = d+l$  \n",
    "  \n",
    "Po wykonaniu obliczeń sprawdź typy danych utworzonych zmiennych w *Variable explorer*. "
   ]
  },
  {
   "cell_type": "code",
   "execution_count": 1,
   "metadata": {},
   "outputs": [],
   "source": [
    "k = 1240 * 7**(1/2)\n",
    "m = 4467\n",
    "l = 2j\n",
    "d = k + m\n",
    "c = d + l"
   ]
  },
  {
   "cell_type": "markdown",
   "metadata": {},
   "source": [
    "| Zmienna | Typ     | Wartość                |\n",
    "| ------- | ------- | ---------------------- |\n",
    "| k       | float   | 3280.7316257200923     |\n",
    "| m       | int     | 4467                   |\n",
    "| l       | complex | 2j                     |\n",
    "| d       | float   | 7747.731625720093      |\n",
    "| c       | complex | (7747.731625720093+2j) |"
   ]
  },
  {
   "cell_type": "markdown",
   "metadata": {},
   "source": [
    "***Zadanie 2.***  \n",
    "Przy pomocy instrukcji *[print](https://docs.python.org/3/tutorial/inputoutput.html)* wyświetl wynik zmiennej $d$ z [zadania 1](#zad1) z dokładnością domyślną, do trzech miejsc po przecinku oraz do dwudziestu miejsc po przecinku."
   ]
  },
  {
   "cell_type": "code",
   "execution_count": 2,
   "metadata": {},
   "outputs": [
    {
     "name": "stdout",
     "output_type": "stream",
     "text": [
      "7747.731625720093\n",
      "7747.732\n",
      "7747.73162572009277937468\n"
     ]
    }
   ],
   "source": [
    "print(d)\n",
    "print('{:.3f}'.format(d))\n",
    "print('{:.20f}'.format(d))"
   ]
  },
  {
   "cell_type": "markdown",
   "metadata": {},
   "source": [
    "***Zadanie 3.***  \n",
    "Używając Pythona oblicz pole powierzchni $S$ walca o promieniu podstawy $r = 17$ i wysokości $h = 33$. Stała $\\pi$ jest zdefiniowana w bibliotece *[math](https://docs.python.org/3/library/math.html#constants)*."
   ]
  },
  {
   "cell_type": "code",
   "execution_count": 3,
   "metadata": {},
   "outputs": [
    {
     "name": "stdout",
     "output_type": "stream",
     "text": [
      "5340.707511102648\n"
     ]
    }
   ],
   "source": [
    "import math\n",
    "r = 17\n",
    "h = 33\n",
    "S = 2*math.pi*r**2 + 2*math.pi*r * h\n",
    "print(S)"
   ]
  },
  {
   "cell_type": "markdown",
   "metadata": {},
   "source": [
    "***Zadanie 4.***  \n",
    "Dla przejrzystości prowadzonych prac dodaj do skryptu komentarze opisujące kod."
   ]
  },
  {
   "cell_type": "code",
   "execution_count": 4,
   "metadata": {
    "scrolled": true
   },
   "outputs": [
    {
     "name": "stdout",
     "output_type": "stream",
     "text": [
      "5340.707511102648\n"
     ]
    }
   ],
   "source": [
    "# import pi constant from math library\n",
    "from math import pi\n",
    "\"\"\"\n",
    "Calculate the area of a cyllinder\n",
    "r - radius of the base\n",
    "h - height of the cyllinder\n",
    "S - area\n",
    "\"\"\"\n",
    "r = 17\n",
    "h = 33\n",
    "S = 2*pi*r**2 + 2*pi*r * h\n",
    "print(S)"
   ]
  },
  {
   "cell_type": "markdown",
   "metadata": {},
   "source": [
    "***Zadanie 5.***  \n",
    "Dla dowolnych zmiennych $x_{1},t,r$ oblicz wartość wyrażenia:\n",
    "  \n",
    "$B = \\cfrac{x_{1}+r}{r\\cdot\\sin(2\\cdot x_{1})+3.3456}\\cdot x_{1}^{t\\cdot r}$,  \n",
    "  \n",
    "Wypisz wynik używając funkcji *print*. "
   ]
  },
  {
   "cell_type": "code",
   "execution_count": 5,
   "metadata": {},
   "outputs": [
    {
     "name": "stdout",
     "output_type": "stream",
     "text": [
      "-15855491895.05425\n"
     ]
    }
   ],
   "source": [
    "def calc(x1, t, r):    \n",
    "    numerator = x1 + r\n",
    "    denominator = r * math.sin(2*x1) + 3.3456\n",
    "    return numerator/denominator * x1**(t*r)\n",
    "\n",
    "print(calc(2,4,8))"
   ]
  },
  {
   "cell_type": "markdown",
   "metadata": {},
   "source": [
    "***Zadanie 6.***  \n",
    "Zadeklaruj macierz:  \n",
    "  \n",
    "$\\mathbf{M} =\\left[ \\begin{matrix}\n",
    "a & 1 & -a\\\\\n",
    "0 & 1 & 1\\\\\n",
    "-a & a & 1\n",
    "\\end{matrix}\\right]\n",
    "$    \n",
    "  \n",
    "dla $a = \\sqrt{2}$.  \n",
    "   \n",
    "Dla zadeklarowanej macierzy wyznacz numerycznie macierz odwrotną $\\mathbf{M}^{-1}$, macierz transponowaną $\\mathbf{M}^{\\textrm{T}}$ i wyznacznik macierzy $\\mathbf{M}$. Wypisz otrzymane wyniki."
   ]
  },
  {
   "cell_type": "code",
   "execution_count": 6,
   "metadata": {},
   "outputs": [
    {
     "name": "stdout",
     "output_type": "stream",
     "text": [
      "Macierz:\n",
      " [[ 1.41421356  1.         -1.41421356]\n",
      " [ 0.          1.          1.        ]\n",
      " [-1.41421356  1.41421356  1.        ]]\n",
      "\n",
      "Macierz odwrotna:\n",
      " [[ 0.10355339  0.75       -0.60355339]\n",
      " [ 0.35355339  0.14644661  0.35355339]\n",
      " [-0.35355339  0.85355339 -0.35355339]]\n",
      "\n",
      "Macierz transponowana:\n",
      " [[ 1.41421356  0.         -1.41421356]\n",
      " [ 1.          1.          1.41421356]\n",
      " [-1.41421356  1.          1.        ]]\n",
      "\n",
      "Wyznacznik:\n",
      " -4.0\n"
     ]
    }
   ],
   "source": [
    "import numpy\n",
    "a = 2**(1/2)\n",
    "M = numpy.array([\n",
    "            [a,  1, -a],\n",
    "            [0,  1,  1],\n",
    "            [-a, a,  1]\n",
    "        ])\n",
    "M_inv = numpy.linalg.inv(M)\n",
    "M_trans = numpy.transpose(M)\n",
    "det = numpy.linalg.det(M)\n",
    "print(\"Macierz:\\n {}\\n\".format(M))\n",
    "print(\"Macierz odwrotna:\\n {}\\n\".format(M_inv))\n",
    "print(\"Macierz transponowana:\\n {}\\n\".format(M_trans))\n",
    "print(\"Wyznacznik:\\n {}\".format(det))"
   ]
  },
  {
   "cell_type": "markdown",
   "metadata": {},
   "source": [
    "***Zadanie 7.***  \n",
    "Wypisz przy pomocy funkcji *print* następujące elementy macierzy $\\mathbf{M}$: $\\mathbf{M}_{1,1},\\mathbf{M}_{3,3},\\mathbf{M}_{3,2}$. Zdefiniuj wektor $\\mathbf{w1}$, równy trzeciej kolumnie macierzy $\\mathbf{M}$ oraz wektor $\\mathbf{w2}$, który składa się z elementów drugiego wiersza tej macierzy."
   ]
  },
  {
   "cell_type": "code",
   "execution_count": 7,
   "metadata": {},
   "outputs": [
    {
     "name": "stdout",
     "output_type": "stream",
     "text": [
      "1.4142135623730951 1.0 1.4142135623730951\n",
      "[-1.41421356  1.          1.        ]\n",
      "[0. 1. 1.]\n"
     ]
    }
   ],
   "source": [
    "print(M[0,0], M[2,2], M[2,1])\n",
    "\n",
    "w1 = M[:,2]\n",
    "w2 = M[1,:]\n",
    "\n",
    "print(w1, w2, sep='\\n')"
   ]
  },
  {
   "cell_type": "markdown",
   "metadata": {},
   "source": [
    "***Zadanie 8.***  \n",
    "Przy użyciu funkcji *[roots](https://docs.scipy.org/doc/numpy/reference/generated/numpy.roots.html)* z pakietu *numpy* wyznacz numerycznie wszystkie pierwiastki wielomianu $W(x) = x^{5} − 7x^{4} + 3x^{3} + 43x^{2} − 28x − 60$. Sprawdź poprawność otrzymanych wyników."
   ]
  },
  {
   "cell_type": "code",
   "execution_count": 8,
   "metadata": {
    "scrolled": true
   },
   "outputs": [
    {
     "name": "stdout",
     "output_type": "stream",
     "text": [
      "[ 5.  3.  2. -2. -1.]\n"
     ]
    }
   ],
   "source": [
    "print(numpy.roots([1, -7, 3, 43, -28, -60]))"
   ]
  },
  {
   "cell_type": "markdown",
   "metadata": {},
   "source": [
    "***Zadanie 9.***  \n",
    "Wygeneruj dowolne ciągi arytmetyczne o kroku różnym od jeden i niebędącym liczbą całkowitą, używając w tym celu funkcji *[arange](https://docs.scipy.org/doc/numpy/reference/generated/numpy.arange.html)* oraz *[linspace](https://docs.scipy.org/doc/numpy-1.10.0/reference/generated/numpy.linspace.html)*. Przeanalizuj otrzymane rezultaty."
   ]
  },
  {
   "cell_type": "code",
   "execution_count": 9,
   "metadata": {
    "scrolled": false
   },
   "outputs": [
    {
     "name": "stdout",
     "output_type": "stream",
     "text": [
      "[1.         1.05263158 1.10526316 1.15789474 1.21052632 1.26315789\n",
      " 1.31578947 1.36842105 1.42105263 1.47368421 1.52631579 1.57894737\n",
      " 1.63157895 1.68421053 1.73684211 1.78947368 1.84210526 1.89473684\n",
      " 1.94736842 2.        ]\n",
      "[5.   5.15 5.3  5.45 5.6  5.75 5.9  6.05 6.2  6.35 6.5  6.65 6.8  6.95]\n"
     ]
    }
   ],
   "source": [
    "print(numpy.linspace(1, 2, 20))\n",
    "print(numpy.arange(5, 7, 0.15))"
   ]
  },
  {
   "cell_type": "markdown",
   "metadata": {},
   "source": [
    "* **linspace**\n",
    "\n",
    "   Służy do dokładnego generowania n liczb z przedziału: *[start; end]*\n",
    "   \n",
    "   \n",
    "   \n",
    "* **arange**\n",
    "\n",
    "   Używane do generowania ciągów liczb, podaje sie krok pomiedzy wyrazami ciagu zamiast ilosci wyrazow w przedziale tak jak w przypadku *linspace*  \n",
    "   Według dokumentacji podaje niedokładne wartości dla *step* innego niż liczba całkowita"
   ]
  },
  {
   "cell_type": "markdown",
   "metadata": {},
   "source": [
    "***Zadanie 10.***  \n",
    "Zdefiniuj funkcję $f(x)= x^{3} - 3x$ i sporządz jej wykres dla argumentów z przedziału:  \n",
    "1. $x\\in<-1,1>$  \n",
    "2. $x\\in<-5,5>$\n",
    "3. $x\\in<0,5>$"
   ]
  },
  {
   "cell_type": "markdown",
   "metadata": {},
   "source": [
    "Wykorzystując dokumentację biblioteki [Matplotlib](https://matplotlib.org/) dodaj do wykresu etykiety osi, tytuły wykresów i legendę."
   ]
  },
  {
   "cell_type": "code",
   "execution_count": 12,
   "metadata": {},
   "outputs": [
    {
     "data": {
      "image/png": "[encoded data removed]",
      "text/plain": [
       "<Figure size 432x288 with 1 Axes>"
      ]
     },
     "metadata": {
      "needs_background": "light"
     },
     "output_type": "display_data"
    },
    {
     "data": {
      "image/png": "[encoded data removed]",
      "text/plain": [
       "<Figure size 432x288 with 1 Axes>"
      ]
     },
     "metadata": {
      "needs_background": "light"
     },
     "output_type": "display_data"
    },
    {
     "data": {
      "image/png": "[encoded data removed]",
      "text/plain": [
       "<Figure size 432x288 with 1 Axes>"
      ]
     },
     "metadata": {
      "needs_background": "light"
     },
     "output_type": "display_data"
    }
   ],
   "source": [
    "import matplotlib.pyplot as plt\n",
    "\n",
    "def f(x):\n",
    "    return x**3 - 3*x**2\n",
    "\n",
    "\n",
    "\n",
    "# 1.\n",
    "x1 = numpy.linspace(-1,1)\n",
    "y1 = [f(i) for i in x1]\n",
    "\n",
    "# 2.\n",
    "x2 = numpy.linspace(-5, 5)\n",
    "y2 = [f(i) for i in x2]\n",
    "\n",
    "# 3.\n",
    "x3 = numpy.linspace(0, 5)\n",
    "y3 = [f(i) for i in x3]\n",
    "\n",
    "plt.plot(x1, y1)\n",
    "plt.title(\"Wykres 1 - [-1; 1]\")\n",
    "plt.xlabel('x')\n",
    "plt.ylabel('y')\n",
    "plt.legend(\"1\")\n",
    "plt.show()\n",
    "\n",
    "plt.plot(x2, y2)\n",
    "plt.title(\"Wykres 2 - [-5; 5]\")\n",
    "plt.xlabel('x')\n",
    "plt.ylabel('y')\n",
    "plt.legend(\"2\")\n",
    "plt.show()\n",
    "\n",
    "plt.plot(x3, y3)\n",
    "plt.title(\"Wykres 3 - [0; 5]\")\n",
    "plt.xlabel('x')\n",
    "plt.ylabel('y')\n",
    "plt.legend(\"3\")\n",
    "plt.show()"
   ]
  },
  {
   "cell_type": "markdown",
   "metadata": {},
   "source": [
    "***Zadanie 11.***  \n",
    "Oblicz ilość ciepła, które wydzieli się podczas hamowania, jeżeli opisuje je zależność:  \n",
    "  \n",
    "$Q = \\cfrac{mv^2}{2}$  \n",
    "  \n",
    "jeżeli $m = 2500\\textrm{g}$, $v = 60\\textrm{km}/\\textrm{h}$, wypisz wynik w kilokaloriach i dżulach. Narysuj wykresy, które zobrazują zależność ilości ciepła wydzielonego w procesie hamowania od prędkości dla ciała o masie $3000 \\textrm{g}$ i prędkości $v\\in \\left<200,0\\right>\\textrm{km}/\\textrm{h}$, przedstawiając ciepło hamowania na pierwszym w skali liniowej i na drugim w skali logarytmicznej."
   ]
  },
  {
   "cell_type": "code",
   "execution_count": 11,
   "metadata": {},
   "outputs": [
    {
     "name": "stdout",
     "output_type": "stream",
     "text": [
      "Ciepło w J: 347.22222\n",
      "Ciepło w kcal: 0.08299\n"
     ]
    },
    {
     "data": {
      "image/png": "[encoded data removed]",
      "text/plain": [
       "<Figure size 432x288 with 1 Axes>"
      ]
     },
     "metadata": {
      "needs_background": "light"
     },
     "output_type": "display_data"
    },
    {
     "data": {
      "image/png": "[encoded data removed]",
      "text/plain": [
       "<Figure size 432x288 with 1 Axes>"
      ]
     },
     "metadata": {
      "needs_background": "light"
     },
     "output_type": "display_data"
    }
   ],
   "source": [
    "def heatEnergy(m, v):\n",
    "    return m*v**2/2\n",
    "\n",
    "m = 2.5 # 2.5kg\n",
    "v = 60/3.6 # conversion from kmph to mps\n",
    "print(\"Ciepło w J: {:.5f}\".format(heatEnergy(m,v)))\n",
    "print(\"Ciepło w kcal: {:.5f}\".format(heatEnergy(m,v) * 0.239005736 / 1000))\n",
    "\n",
    "m = 3\n",
    "x = numpy.linspace(200, 0)\n",
    "y = [heatEnergy(m, i) for i in x]\n",
    "\n",
    "# Linear plot\n",
    "plt.plot(x,y)\n",
    "plt.title(\"Ciepło hamowania - wykres liniowy\")\n",
    "plt.xlabel(\"v [m/s]\")\n",
    "plt.ylabel(\"Q [J]\", rotation='horizontal', ha='right')\n",
    "plt.xlim(200, 0)\n",
    "plt.show()\n",
    "\n",
    "# Logarythmic plot\n",
    "plt.semilogy(x,y)\n",
    "plt.title(\"Ciepło hamowania - wykres logarytmiczny\")\n",
    "plt.xlabel(\"v [m/s]\")\n",
    "plt.ylabel(\"Q [J]\", rotation='horizontal', ha='right')\n",
    "plt.xlim(200, 0)\n",
    "plt.show()"
   ]
  }
 ],
 "metadata": {
  "kernelspec": {
   "display_name": "Python 3",
   "language": "python",
   "name": "python3"
  },
  "language_info": {
   "codemirror_mode": {
    "name": "ipython",
    "version": 3
   },
   "file_extension": ".py",
   "mimetype": "text/x-python",
   "name": "python",
   "nbconvert_exporter": "python",
   "pygments_lexer": "ipython3",
   "version": "3.7.0"
  }
 },
 "nbformat": 4,
 "nbformat_minor": 2
}
