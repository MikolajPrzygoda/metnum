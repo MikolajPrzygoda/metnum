{
 "cells": [
  {
   "cell_type": "markdown",
   "metadata": {},
   "source": [
    "***<p style=\"text-align: center; font-size:2em; letter-spacing: 10px\">Notadgi</p>***\n",
    "\n",
    "5.\n",
    "\n",
    "$mod\\left(x^{k+i}- x^k \\right)$\n",
    "\n",
    "$x_0 = [0,0,0,0,\\dots]$\n",
    "\n",
    "\n",
    "4.\n",
    "\n",
    "$cond\\left(A\\right) = ||A|| - ||A^-1||$\n",
    "\n",
    "||A|| = suma modułów kolumn -> wybierz największą (pierwsza norma)\n",
    "\n",
    "||A|| = suma modułów wierszy -> wybierz największą (norma nieskonczonosci)\n",
    "\n",
    "||A|| = (spektralna, druga norma)\n",
    "\n",
    "\n",
    "3.\n",
    "\n",
    "$b - Ax = [residuum]$ <- norma z residuum = kryterium jakościowe"
   ]
  },
  {
   "cell_type": "markdown",
   "metadata": {},
   "source": [
    "***Zadanie 1***   \n",
    "Rozwiąż analitycznie poniższy układ równań dla $i = 1, 2$. Jak zmienia się rozwiązanie wraz ze zmianą wektora prawych stron? Oblicz współczynnik uwarunkowania macierzy $A$.<br>\n",
    "$Ax = b_i$,<br>\n",
    "$A = \\left[\\begin{matrix}\n",
    "1 & 1 \\\\\n",
    "1 & 1.0001\\\\\n",
    "\\end{matrix}\\right]$,\n",
    "$b_1 = \\left[\\begin{matrix}\n",
    "2 \\\\\n",
    "2.0001 \\\\\n",
    "\\end{matrix}\\right]$,\n",
    "$b_2 = \\left[\\begin{matrix}\n",
    "2 \\\\\n",
    "2 \\\\\n",
    "\\end{matrix}\\right]$.<br>"
   ]
  },
  {
   "cell_type": "markdown",
   "metadata": {},
   "source": [
    "Wynik:\n",
    "$$\n",
    "x_1 = \\left[\\begin{array}{cc} \n",
    "0.0001 \\\\\n",
    "0.0001\n",
    "\\end{array}\\right] \\\\\n",
    "x_2 = \\left[\\begin{array}{cc} \n",
    "0.0002 \\\\\n",
    "0\n",
    "\\end{array}\\right]\n",
    "$$"
   ]
  },
  {
   "cell_type": "code",
   "execution_count": null,
   "metadata": {},
   "outputs": [],
   "source": []
  }
 ],
 "metadata": {
  "kernelspec": {
   "display_name": "Python 3",
   "language": "python",
   "name": "python3"
  },
  "language_info": {
   "codemirror_mode": {
    "name": "ipython",
    "version": 3
   },
   "file_extension": ".py",
   "mimetype": "text/x-python",
   "name": "python",
   "nbconvert_exporter": "python",
   "pygments_lexer": "ipython3",
   "version": "3.7.0"
  }
 },
 "nbformat": 4,
 "nbformat_minor": 2
}
