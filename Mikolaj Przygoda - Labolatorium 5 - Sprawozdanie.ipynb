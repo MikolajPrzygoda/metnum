{
 "cells": [
  {
   "cell_type": "code",
   "execution_count": 39,
   "metadata": {},
   "outputs": [],
   "source": [
    "#Imports:\n",
    "import numpy as np\n",
    "import math\n",
    "import scipy.linalg\n",
    "from scipy.sparse.linalg import bicg, gmres\n",
    "from scipy.sparse import csr_matrix\n",
    "import timeit\n",
    "import matplotlib.pyplot as plt\n",
    "import time"
   ]
  },
  {
   "cell_type": "markdown",
   "metadata": {},
   "source": [
    "***Zadanie 1***   \n",
    "Rozwiąż analitycznie poniższy układ równań dla $i = 1, 2$. Jak zmienia się rozwiązanie wraz ze zmianą wektora prawych stron? Oblicz współczynnik uwarunkowania macierzy $A$.<br>\n",
    "$Ax = b_i$,<br>\n",
    "$A = \\left[\\begin{matrix}\n",
    "1 & 1 \\\\\n",
    "1 & 1.0001\\\\\n",
    "\\end{matrix}\\right]$,\n",
    "$b_1 = \\left[\\begin{matrix}\n",
    "2 \\\\\n",
    "2.0001 \\\\\n",
    "\\end{matrix}\\right]$,\n",
    "$b_2 = \\left[\\begin{matrix}\n",
    "2 \\\\\n",
    "2 \\\\\n",
    "\\end{matrix}\\right]$.<br>"
   ]
  },
  {
   "cell_type": "markdown",
   "metadata": {},
   "source": [
    "Wynik:\n",
    "$$\n",
    "x_1 = \\left[\\begin{array}{cc} \n",
    "1 \\\\\n",
    "1\n",
    "\\end{array}\\right] \\\\\n",
    "x_2 = \\left[\\begin{array}{cc} \n",
    "2 \\\\\n",
    "0\n",
    "\\end{array}\\right]\n",
    "$$"
   ]
  },
  {
   "cell_type": "code",
   "execution_count": 2,
   "metadata": {},
   "outputs": [
    {
     "name": "stdout",
     "output_type": "stream",
     "text": [
      "Norma pierwsza (kolumnowa): 40004.00 \n",
      "Norma nieskończoności (wierszowa): 40004.00\n"
     ]
    }
   ],
   "source": [
    "A = [\n",
    "    [1, 1],\n",
    "    [1, 1.0001]\n",
    "]\n",
    "\n",
    "normR = np.linalg.cond(A, 1)      #Pierwsza norma - Max([Suma modułów elementów kolumny macierzy macierzy A])\n",
    "normC = np.linalg.cond(A, np.inf) #Pierwsza norma - Max([Suma modułów elementów wiersza macierzy macierzy A])\n",
    "\n",
    "print(\"Norma pierwsza (kolumnowa): {:.2f} \\nNorma nieskończoności (wierszowa): {:.2f}\".format(normR, normC))"
   ]
  },
  {
   "cell_type": "markdown",
   "metadata": {},
   "source": [
    "Jak widac norma macierzowa jest bardzo duża, a więc macierz jest źle uwarunkowana, co też widzimy na powyższym przykładzie bardzo różnych wyników dla minimalnie innych danych wejściowych."
   ]
  },
  {
   "cell_type": "markdown",
   "metadata": {},
   "source": [
    "***Zadanie 2***  \n",
    "Dana jest macierz Hilberta o wymiarach $8 \\times 8$. Oblicz współczynniki uwarunkowania macierzy korzystając\n",
    "z normy kolumnowej, spektralnej oraz wierszowej. Co na ich podstawie można powiedzieć o uwarunkowaniu tej macierzy?   \n",
    "**Wskazówka:** Elementy macierzy Hilberta są określone przez wzór $h_{i,j}=\\frac{1}{i+j-1}$."
   ]
  },
  {
   "cell_type": "code",
   "execution_count": 3,
   "metadata": {},
   "outputs": [
    {
     "name": "stdout",
     "output_type": "stream",
     "text": [
      "Macierz Hilberta 8x8:\n",
      "[[1.   0.5  0.33 0.25 0.2  0.17 0.14 0.12]\n",
      " [0.5  0.33 0.25 0.2  0.17 0.14 0.12 0.11]\n",
      " [0.33 0.25 0.2  0.17 0.14 0.12 0.11 0.1 ]\n",
      " [0.25 0.2  0.17 0.14 0.12 0.11 0.1  0.09]\n",
      " [0.2  0.17 0.14 0.12 0.11 0.1  0.09 0.08]\n",
      " [0.17 0.14 0.12 0.11 0.1  0.09 0.08 0.08]\n",
      " [0.14 0.12 0.11 0.1  0.09 0.08 0.08 0.07]\n",
      " [0.12 0.11 0.1  0.09 0.08 0.08 0.07 0.07]]\n",
      "\n",
      "Norma pierwsza (kolumnowa): 33872790820.23\n",
      "Norma nieskończoności (wierszowa): 33872790819.49\n",
      "Norma druga (spektralna - odchylenie standardowe): 15257575547.77\n"
     ]
    }
   ],
   "source": [
    "size = 8\n",
    "hilbert = np.array(\n",
    "    [[1/(i+j-1) for i in range(1, size+1)] for j in range (1, size+1)]\n",
    ")\n",
    "\n",
    "print(\"Macierz Hilberta {}x{}:\\n\".format(size, size), np.array_str(hilbert, precision=2), \"\\n\", sep=\"\")\n",
    "\n",
    "print(\"Norma pierwsza (kolumnowa): {:.2f}\".format(np.linalg.cond(hilbert, 1)))\n",
    "print(\"Norma nieskończoności (wierszowa): {:.2f}\".format(np.linalg.cond(hilbert, np.inf)))\n",
    "print(\"Norma druga (spektralna - odchylenie standardowe): {:.2f}\".format(np.linalg.cond(hilbert)))"
   ]
  },
  {
   "cell_type": "markdown",
   "metadata": {},
   "source": [
    "Na ich podstawie możemy stwierdzić że macierz ta jest bardzo źle uwarunkowana. Zgadza się to z założeniem macierzy Hilberta."
   ]
  },
  {
   "cell_type": "markdown",
   "metadata": {},
   "source": [
    "***Zadanie 3***<br>\n",
    "Dane jest $n = 20$. Używając funkcji <i>linspace</i> zdefiniuj wektor $t =\\left[\\begin{matrix} t_0 & \\ldots & t_{n-1}\\end{matrix}\\right]^T$, którego wartości należą do przedziału $[0,1]$ oraz wektor $b =\\left[\\begin{matrix}\n",
    "\\cos(4t_0) & \\ldots & \\cos(4t_{n-1})\\end{matrix}\\right]^T$. Następnie wygeneruj macierz $A$ daną wzorem:\n",
    "\n",
    "$\\left[\\begin{matrix}\n",
    "1 & t_0 & t_{0}^{2} & \\cdots & t_{0}^{n-1} \\\\\n",
    "1 & t_1 & t_{1}^{2} & \\cdots & t_{1}^{n-1} \\\\\n",
    "1 & t_2 & t_{2}^{2} & \\cdots & t_{2}^{n-1} \\\\\n",
    "\\vdots & \\vdots & \\vdots & \\ddots & \\vdots \\\\\n",
    "1 & t_{n-1} & t_{n-1}^{2} & \\cdots & t_{m-1}^{n-1} \n",
    "\\end{matrix}\\right]$\n",
    "  \n",
    "**Wskazówka**: Do definicji macierzy $A$ można użyć funkcji [vander](https://docs.scipy.org/doc/numpy-1.13.0/reference/generated/numpy.vander.html) oraz [fliplr](https://docs.scipy.org/doc/numpy-1.15.0/reference/generated/numpy.fliplr.html).  \n",
    "\n",
    "Rozwiąż układ równań $Ax=b$ za pomocą następujacych metod:\n",
    "1. Metody [solve](https://docs.scipy.org/doc/numpy/reference/generated/numpy.linalg.solve.html) z pakietu numpy.\n",
    "2. Metody rozkładu QR rozwiązywania układów równań. Do dokonania rozkładu QR w Pythonie używa się funkcji [qr](https://docs.scipy.org/doc/numpy-1.15.1/reference/generated/numpy.linalg.qr.html), natomiast do rozwiązywania układu równań z macierzą trójkątną służy funkcja [solve_triangular](https://docs.scipy.org/doc/scipy/reference/generated/scipy.linalg.solve_triangular.html).\n",
    "3. Domyślnej dla Pythona metody rozwiązywania układów równań z macierzą prostokątną [lstsq](https://docs.scipy.org/doc/numpy-1.13.0/reference/generated/numpy.linalg.lstsq.html#numpy-linalg-lstsq). Sprawdź, jak ta metoda zachowuje się w przypadku układu z macierzą kwadratową.\n",
    "4. Porównaj czasy wykonania wszystkich metod ze sobą.\n",
    "5. <b>Porównaj jakość otrzymanych wyników</b>. Do porównania możesz zastosować np. normę $||r||$ gdzie $r$ zdefiniowane jest jako $r=b-Ax$ (tzw. residuum)."
   ]
  },
  {
   "cell_type": "code",
   "execution_count": 48,
   "metadata": {},
   "outputs": [
    {
     "name": "stdout",
     "output_type": "stream",
     "text": [
      "1. Czas wykonania numpy.linalg.solve:            0.00004907ms\n",
      "2. Czas wykonania scipy.linalg.solve_triangular: 0.00027377ms\n",
      "3. Czas wykonania numpy.linalg.lstsq:            0.00021035ms\n",
      "\n",
      "1. Jakoś wyniku numpy.linalg.solve:            ||r|| = 7.3e-15\n",
      "2. Jakoś wyniku scipy.linalg.solve_triangular: ||r|| = 1.71e-14\n",
      "3. Jakoś wyniku numpy.linalg.lstsq:            ||r|| = 1.89e-14\n"
     ]
    }
   ],
   "source": [
    "#0. Define test data:\n",
    "t = np.linspace(0, 1, 20)\n",
    "A = np.vander(t, increasing=True)\n",
    "b = np.array([math.cos(4*t[i]) for i in range(0, 20)])\n",
    "\n",
    "#1. numpy.linalg.solve:\n",
    "def s1(A, b):\n",
    "    return np.linalg.solve(A, b)\n",
    "\n",
    "#2. scipy.linalg.solve_triangular:\n",
    "def s2(A, b):  \n",
    "    Q, R = np.linalg.qr(A)\n",
    "    #Ax = b  ==> QRx = b  ==>  Rx = Q^-1 * b  ==>  Rx = Q^T * b\n",
    "    return scipy.linalg.solve_triangular(R, np.dot(Q.T, b))\n",
    "\n",
    "#3. numpy.linalg.lstsq:\n",
    "def s3(A, b):\n",
    "    return np.linalg.lstsq(A, b, rcond=None)[0]\n",
    "\n",
    "#Check whether all the solutions are correct or not:\n",
    "x1 = s1(A,b)\n",
    "x2 = s2(A,b)\n",
    "x3 = s3(A,b)\n",
    "# print(A.dot(x1), A.dot(x2), A.dot(x3), b, sep=\"\\n\")\n",
    "\n",
    "#4. Porównaj czasy wykonania wszystkich metod ze sobą:\n",
    "time_s1 = timeit.timeit('s1(A,b)', setup='from __main__ import s1, A, b', number=1000) #Runs the test 1000 times\n",
    "time_s2 = timeit.timeit('s2(A,b)', setup='from __main__ import s2, A, b', number=1000)\n",
    "time_s3 = timeit.timeit('s3(A,b)', setup='from __main__ import s3, A, b', number=1000)\n",
    "print(\"1. Czas wykonania numpy.linalg.solve:            {:.8f}ms\".format(time_s1/1000))\n",
    "print(\"2. Czas wykonania scipy.linalg.solve_triangular: {:.8f}ms\".format(time_s2/1000))\n",
    "print(\"3. Czas wykonania numpy.linalg.lstsq:            {:.8f}ms\\n\".format(time_s3/1000))\n",
    "\n",
    "\n",
    "#5. Porównaj jakość otrzymanych wyników.\n",
    "def residuum(A, b, x):\n",
    "    result = 0\n",
    "    for cell in b - A.dot(x):\n",
    "        result += abs(cell)\n",
    "    return result\n",
    "\n",
    "print(\"1. Jakoś wyniku numpy.linalg.solve:            ||r|| = {:.3}\".format(residuum(A, b, x1))) \n",
    "print(\"2. Jakoś wyniku scipy.linalg.solve_triangular: ||r|| = {:.3}\".format(residuum(A, b, x2)))\n",
    "print(\"3. Jakoś wyniku numpy.linalg.lstsq:            ||r|| = {:.3}\".format(residuum(A, b, x3)))"
   ]
  },
  {
   "cell_type": "markdown",
   "metadata": {},
   "source": [
    "Residuum ( $||b-Ax||$ ) np.linalg.solve jest o około 60% mniejsze w porównaniu do pozostałych dwóch metod. Najwolniejsza jest metoda z dekompozycją QR.\n",
    "\n",
    "*Wniosek*: metoda numpy.linalg.solve daje najdokładniejszy wynik w najszybszym czasie."
   ]
  },
  {
   "cell_type": "markdown",
   "metadata": {},
   "source": [
    "***Zadanie 4***  \n",
    "Wygeneruj macierz $A$ o wymiarach $500 \\times 500$ w następujący sposób:\n",
    "1. Umieść na głównej przekątnej liczbę 1.\n",
    "2. Pozostałe miejsca w macierzy uzupełnij liczbami z przedziału $[-1,1]$ tak by uzyskać macierz symetryczną ($A = A^{\\mathrm{T}}$).\n",
    "3. W opracowywanej macierzy zastąp zerem wszystkie wartości które spełniają warunek $|a_{ij}|> \\tau$, poza tymi które znajdują się na diagonalnej.\n",
    "\n",
    "**Wskazówka:** Do szybkiej konstrukcji macierzy $A$ można wykorzystać funkcje: [ones](https://docs.scipy.org/doc/numpy-1.15.1/reference/generated/numpy.ones.html), [diag](https://docs.scipy.org/doc/numpy-1.15.1/reference/generated/numpy.diag.html?highlight=diag#numpy.diag), [uniform](https://docs.scipy.org/doc/numpy-1.15.1/reference/generated/numpy.random.uniform.html?highlight=uniform#numpy.random.uniform), [tril](https://docs.scipy.org/doc/numpy-1.13.0/reference/generated/numpy.tril.html), [logical_not](https://docs.scipy.org/doc/numpy-1.15.1/reference/generated/numpy.logical_not.html?highlight=logical_not#numpy.logical_not)\n",
    "\n",
    "Po wygenerowaniu macierzy $A$ wylosuj wektor $b$, którego wartości również należą do przedziału $[-1,1]$. Dla układu $Ax=b$ wykonaj następujące zadania:\n",
    "1. Sprawdź, jak zachowuje się współczynnik uwarunkowania macierzy w zależności od wartości $\\tau$, dla $\\tau \\in \\{ 0.01, 0.05, 0.1, 0.2, 0.5, 0.75\\}$. Narysuj wykres zależności współczynnika uwarunkowania macierzy od wartości $\\tau$.\n",
    "2. Dla wszystkich $\\tau$ rozwiąż układ równań przy pomocy funkcji: [solve](https://docs.scipy.org/doc/numpy/reference/generated/numpy.linalg.solve.html), [bicg](https://docs.scipy.org/doc/scipy/reference/generated/scipy.sparse.linalg.bicg.html) oraz [gmres](https://docs.scipy.org/doc/scipy/reference/generated/scipy.sparse.linalg.gmres.html). Na potrzeby dwóch ostatnich metod skorzysaj z funkcji [csr_matrix](https://docs.scipy.org/doc/scipy/reference/generated/scipy.sparse.csr_matrix.html#scipy.sparse.csr_matrix) w celu wygenerowania [macierzy rzadkich](https://pl.wikipedia.org/wiki/Macierz_rzadka) bazujących na macierzach $A$.\n",
    "3. Sprawdź, jak uwarunkowanie macierzy wpływa na jakość rozwiązania układu przez wszystkie metody oraz na czas ich wykonania. <b>Swoje obserwacje przedstaw na odpowiednich wykresach.</b>"
   ]
  },
  {
   "cell_type": "code",
   "execution_count": 45,
   "metadata": {},
   "outputs": [
    {
     "name": "stdout",
     "output_type": "stream",
     "text": [
      "Calculating matrix conditionals... Done.\n"
     ]
    },
    {
     "data": {
      "image/png": "[encoded data removed]",
      "text/plain": [
       "<Figure size 432x288 with 1 Axes>"
      ]
     },
     "metadata": {
      "needs_background": "light"
     },
     "output_type": "display_data"
    },
    {
     "name": "stdout",
     "output_type": "stream",
     "text": [
      "Generating 'A' matrices and converting them to sparse format for the gmres method... Done.\n",
      "Solving the equasions with numpy.linalg.solve... Done\n",
      "Solving the equasions with scipy.sparse.linalg.bicg... Done\n",
      "Solving the equasions with scipy.sparse.linalg.gmres... Done\n"
     ]
    },
    {
     "data": {
      "image/png": "[encoded data removed]",
      "text/plain": [
       "<Figure size 432x288 with 2 Axes>"
      ]
     },
     "metadata": {
      "needs_background": "light"
     },
     "output_type": "display_data"
    }
   ],
   "source": [
    "def makeA(tau):\n",
    "    #1. Generate a matrix with random values between -1 and 1\n",
    "    randMatrix = np.random.rand(500,500) * 2 - 1\n",
    "    #2. Zero out all the cell on or above the diagonal\n",
    "    zeroedMatrix = np.tril(randMatrix, -1)\n",
    "    #3. Mirror all the cell with respect to the diagonal\n",
    "    mirroredMatrix = zeroedMatrix + zeroedMatrix.T\n",
    "    #4. Zero out the cells that fullfils the condition that |a_ij| > tau\n",
    "    mirroredMatrix[abs(mirroredMatrix) > tau] = 0\n",
    "    #5. Add ones on the diagonal\n",
    "    A = mirroredMatrix + np.diag(np.ones(500))\n",
    "    return A\n",
    "    \n",
    "def makeb():\n",
    "    return np.random.rand(500) * 2 - 1\n",
    "\n",
    "#1. Sprawdź, jak zachowuje się współczynnik uwarunkowania macierzy w zależności od wartości tau.\n",
    "print('Calculating matrix conditionals... ', end='')\n",
    "taus = [0.01, 0.05, 0.1, 0.2, 0.5, 0.75]\n",
    "y = np.zeros(6)\n",
    "\n",
    "#Calculating a mean of n runs to reduce the variance between runs a little\n",
    "n = 3\n",
    "for i in range(0, n):\n",
    "    y += [np.linalg.cond(makeA(i)) for i in taus]\n",
    "y /= n\n",
    "print('Done.')\n",
    "plt.semilogy(taus, y, 'bo-')\n",
    "plt.xlabel('tau')\n",
    "plt.ylabel('uwarunkowanie')\n",
    "plt.title('Uwarunkowanie powyższej macierzy A w zależności od wartości tau')\n",
    "plt.grid()\n",
    "plt.show()\n",
    "\n",
    "#2. Dla wszystkich tau rozwiąż układ równań przy pomocy funkcji: solve, bigc, gmres\n",
    "print('Generating \\'A\\' matrices and converting them to sparse format for the gmres method... ', end='')\n",
    "A = [makeA(i) for i in taus]\n",
    "sparseA = [csr_matrix(makeA(i)) for i in taus]\n",
    "b = makeb()\n",
    "print('Done.')\n",
    "\n",
    "solveNorms = np.array([\n",
    "    np.zeros(6),\n",
    "    np.zeros(6),\n",
    "    np.zeros(6)\n",
    "])\n",
    "solveTimes = np.array([\n",
    "    np.zeros(6),\n",
    "    np.zeros(6),\n",
    "    np.zeros(6)\n",
    "])\n",
    "\n",
    "#2-1. numpy.linalg.solve:\n",
    "print('Solving the equasions with numpy.linalg.solve... ', end='')\n",
    "for i in range(0, 6):\n",
    "    start = time.process_time()\n",
    "    solveNorms[0][i] = np.linalg.norm(b - A[i].dot(np.linalg.solve(A[i], b)), ord=1)\n",
    "    solveTimes[0][i] = time.process_time() - start\n",
    "print('Done')\n",
    "\n",
    "#2-2. scipy.sparse.linalg.bicg:\n",
    "print('Solving the equasions with scipy.sparse.linalg.bicg... ', end='')\n",
    "for i in range(0, 6):\n",
    "    start = time.process_time()\n",
    "    solveNorms[1][i] = np.linalg.norm(b - sparseA[i].dot(bicg(sparseA[i], b)[0]), ord=1)\n",
    "    solveTimes[1][i] = time.process_time() - start\n",
    "print('Done')\n",
    "    \n",
    "#2-3. scipy.sparse.linalg.gmres:\n",
    "print('Solving the equasions with scipy.sparse.linalg.gmres... ', end='')\n",
    "for i in range(0, 6):\n",
    "    start = time.process_time()\n",
    "    solveNorms[2][i] = np.linalg.norm(b - sparseA[i].dot(gmres(sparseA[i], b)[0]), ord=1)\n",
    "    solveTimes[2][i] = time.process_time() - start\n",
    "print('Done')\n",
    "    \n",
    "plt.subplot(121)\n",
    "plt.semilogy(taus, solveNorms[0], 'bo-', label='solve')\n",
    "plt.semilogy(taus, solveNorms[1], 'co-', label='bigc')\n",
    "plt.semilogy(taus, solveNorms[2], 'go-', label='gmres')\n",
    "plt.xlabel('tau')\n",
    "plt.ylabel('Jakość')\n",
    "plt.title('Jakości rozwiązań')\n",
    "plt.legend()\n",
    "plt.grid()\n",
    "\n",
    "plt.subplot(122)\n",
    "plt.semilogy(taus, solveTimes[0] * 1000, 'bo-', label='solve')\n",
    "plt.semilogy(taus, solveTimes[1] * 1000, 'co-', label='bicg')\n",
    "plt.semilogy(taus, solveTimes[2] * 1000, 'go-', label='gmres')\n",
    "plt.xlabel('tau')\n",
    "plt.ylabel('Czas [ms]')\n",
    "plt.title('Czasy rozwiązań')\n",
    "plt.legend()\n",
    "plt.grid()\n",
    "\n",
    "# plt.tight_layout()\n",
    "plt.subplots_adjust(right=2, top=1)\n",
    "plt.show()\n"
   ]
  },
  {
   "cell_type": "markdown",
   "metadata": {},
   "source": [
    "*Wnioski*:\n",
    "\n",
    "Jakość rozwiązań metodą solve jest najwyższa.\n",
    "\n",
    "Metody korzystające ze 'sparse' formatu macierzy sa szybsze od numpy.linalg.solve tylko dla niskich tau, gdyż wtedy większość komórek macierzy jest wypełniona zerami w związku z czym ma sens zastosowanie tych metod. "
   ]
  },
  {
   "cell_type": "markdown",
   "metadata": {},
   "source": [
    "***Zadanie 5***<br>\n",
    "Zaimplementuj iteracyjną metodę Gaussa-Seidla rozwiązywania układów równań liniowych. W celu weryfikacji poprawności rozwiąż przy jej pomocy dowolny układ równań oraz porównaj otrzymany wynik z rezultatem metody [solve](https://docs.scipy.org/doc/numpy/reference/generated/numpy.linalg.solve.html). Dodatkowo rozwiąż przy jej pomocy poniższy układ równań i oceń jakość otrzymanego rozwiązania.<br>\n",
    "$Ax = b$,<br>\n",
    "$A = \\left[\\begin{matrix}\n",
    "1 & 2 & 3 \\\\\n",
    "2 & 1 & 3\\\\\n",
    "3 & 2 & 1 \\\\\n",
    "\\end{matrix}\\right]$,\n",
    "$b = \\left[\\begin{matrix}\n",
    "1 \\\\\n",
    "2 \\\\\n",
    "0 \\\\\n",
    "\\end{matrix}\\right]$."
   ]
  },
  {
   "cell_type": "markdown",
   "metadata": {},
   "source": [
    "[algorytm](https://pl.wikipedia.org/wiki/Metoda_Gaussa-Seidla#Przyk%C5%82ad_w_Python_3_i_pakiecie_NumPy)"
   ]
  },
  {
   "cell_type": "code",
   "execution_count": 53,
   "metadata": {},
   "outputs": [
    {
     "name": "stdout",
     "output_type": "stream",
     "text": [
      "Jakość wyniku Gauss-Siedl:                                 ||r|| = 5.0\n",
      "Jakość wyniku numpy.linalg.solve:                          ||r|| = 2.66e-15\n",
      "\n",
      "Jakość wyniku podanej macierzy metodą Gauss-Siedl:         ||r|| = 2.29e+63\n",
      "Jakość wyniku podanej macierzy metodą numpy.linalg.solve:  ||r|| = 2.22e-16\n"
     ]
    }
   ],
   "source": [
    "def gauss_seidl(A, b, iterLimit=100):\n",
    "    x = np.zeros_like(b)\n",
    "    for it_count in range(iterLimit):\n",
    "        x_new = np.zeros_like(x)\n",
    "\n",
    "        for i in range(A.shape[0]):\n",
    "            s1 = np.dot(A[i, :i], x_new[:i])\n",
    "            s2 = np.dot(A[i, i + 1:], x[i + 1:])\n",
    "            x_new[i] = (b[i] - s1 - s2) / A[i, i]\n",
    "\n",
    "        if np.allclose(x, x_new, rtol=1e-8):\n",
    "            return x\n",
    "\n",
    "        x = x_new\n",
    "        \n",
    "    return x\n",
    "\n",
    "A1 = np.array([\n",
    "    [ 4., -2.,  1.],\n",
    "    [ 2., -5., -2.],\n",
    "    [-3.,  8.,  5.]\n",
    "])\n",
    "b1 = np.array([6, 4, -2])\n",
    "\n",
    "x1_gs = gauss_seidl(A1, b1)\n",
    "x1_solve = np.linalg.solve(A1, b1)\n",
    "\n",
    "print(\"Jakość wyniku Gauss-Siedl:                                 ||r|| = {:.3}\".format(residuum(A1, b1, x1_gs)))\n",
    "print(\"Jakość wyniku numpy.linalg.solve:                          ||r|| = {:.3}\\n\".format(residuum(A1, b1, x1_solve)))\n",
    "\n",
    "\n",
    "A = np.array([\n",
    "    [1., 2., 3.],\n",
    "    [2., 1., 3.],\n",
    "    [3., 2., 1.],\n",
    "])\n",
    "b = np.array([1., 2., 0.])\n",
    "x_gs = gauss_seidl(A, b)\n",
    "x_solve = np.linalg.solve(A, b)\n",
    "print(\"Jakość wyniku podanej macierzy metodą Gauss-Siedl:         ||r|| = {:.3}\".format(residuum(A, b, x_gs)))\n",
    "print(\"Jakość wyniku podanej macierzy metodą numpy.linalg.solve:  ||r|| = {:.3}\".format(residuum(A, b, x_solve)))"
   ]
  },
  {
   "cell_type": "markdown",
   "metadata": {},
   "source": [
    "Metoda Gaussa-Siedla nie działa dla podanej macierzy A ponieważ nie spełnia ona warunku koniecznego działania tejże metody"
   ]
  },
  {
   "cell_type": "code",
   "execution_count": null,
   "metadata": {},
   "outputs": [],
   "source": []
  }
 ],
 "metadata": {
  "kernelspec": {
   "display_name": "Python 3",
   "language": "python",
   "name": "python3"
  },
  "language_info": {
   "codemirror_mode": {
    "name": "ipython",
    "version": 3
   },
   "file_extension": ".py",
   "mimetype": "text/x-python",
   "name": "python",
   "nbconvert_exporter": "python",
   "pygments_lexer": "ipython3",
   "version": "3.7.0"
  }
 },
 "nbformat": 4,
 "nbformat_minor": 2
}
