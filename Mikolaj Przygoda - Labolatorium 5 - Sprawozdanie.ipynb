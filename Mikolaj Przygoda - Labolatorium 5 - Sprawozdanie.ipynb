{
 "cells": [
  {
   "cell_type": "code",
   "execution_count": 171,
   "metadata": {},
   "outputs": [],
   "source": [
    "#Imports:\n",
    "import numpy as np\n",
    "import math\n",
    "import scipy.linalg\n",
    "import timeit"
   ]
  },
  {
   "cell_type": "markdown",
   "metadata": {},
   "source": [
    "***<p style=\"text-align: center; font-size:2em; letter-spacing: 10px\">Notadgi</p>***\n",
    "\n",
    "5.\n",
    "\n",
    "$mod\\left(x^{k+i}- x^k \\right)$\n",
    "\n",
    "$x_0 = [0,0,0,0,\\dots]$\n",
    "\n",
    "\n",
    "4.\n",
    "\n",
    "$cond\\left(A\\right) = ||A|| - ||A^-1||$\n",
    "\n",
    "||A|| = suma modułów kolumn -> wybierz największą (pierwsza norma)\n",
    "\n",
    "||A|| = suma modułów wierszy -> wybierz największą (norma nieskonczonosci)\n",
    "\n",
    "||A|| = (spektralna, druga norma)\n",
    "\n",
    "\n",
    "3.\n",
    "\n",
    "$b - Ax = [residuum]$ <- norma z residuum = kryterium jakościowe"
   ]
  },
  {
   "cell_type": "markdown",
   "metadata": {},
   "source": [
    "***Zadanie 1***   \n",
    "Rozwiąż analitycznie poniższy układ równań dla $i = 1, 2$. Jak zmienia się rozwiązanie wraz ze zmianą wektora prawych stron? Oblicz współczynnik uwarunkowania macierzy $A$.<br>\n",
    "$Ax = b_i$,<br>\n",
    "$A = \\left[\\begin{matrix}\n",
    "1 & 1 \\\\\n",
    "1 & 1.0001\\\\\n",
    "\\end{matrix}\\right]$,\n",
    "$b_1 = \\left[\\begin{matrix}\n",
    "2 \\\\\n",
    "2.0001 \\\\\n",
    "\\end{matrix}\\right]$,\n",
    "$b_2 = \\left[\\begin{matrix}\n",
    "2 \\\\\n",
    "2 \\\\\n",
    "\\end{matrix}\\right]$.<br>"
   ]
  },
  {
   "cell_type": "markdown",
   "metadata": {},
   "source": [
    "Wynik:\n",
    "$$\n",
    "x_1 = \\left[\\begin{array}{cc} \n",
    "1 \\\\\n",
    "1\n",
    "\\end{array}\\right] \\\\\n",
    "x_2 = \\left[\\begin{array}{cc} \n",
    "2 \\\\\n",
    "0\n",
    "\\end{array}\\right]\n",
    "$$"
   ]
  },
  {
   "cell_type": "code",
   "execution_count": 6,
   "metadata": {},
   "outputs": [
    {
     "name": "stdout",
     "output_type": "stream",
     "text": [
      "Norma pierwsza (kolumnowa): 40004.00 \n",
      "Norma nieskończoności (wierszowa): 40004.00\n"
     ]
    }
   ],
   "source": [
    "A = [\n",
    "    [1, 1],\n",
    "    [1, 1.0001]\n",
    "]\n",
    "\n",
    "normR = np.linalg.cond(A, 1)      #Pierwsza norma - Max([Suma modułów elementów kolumny macierzy macierzy A])\n",
    "normC = np.linalg.cond(A, np.inf) #Pierwsza norma - Max([Suma modułów elementów wiersza macierzy macierzy A])\n",
    "\n",
    "print(\"Norma pierwsza (kolumnowa): {:.2f} \\nNorma nieskończoności (wierszowa): {:.2f}\".format(normR, normC))"
   ]
  },
  {
   "cell_type": "markdown",
   "metadata": {},
   "source": [
    "Jak widac norma macierzowa jest bardzo duża, a więc macierz jest źle uwarunkowana, co też widzimy na powyższym przykładzie bardzo różnych wyników dla minimalnie innych danych wejściowych."
   ]
  },
  {
   "cell_type": "markdown",
   "metadata": {},
   "source": [
    "***Zadanie 2***  \n",
    "Dana jest macierz Hilberta o wymiarach $8 \\times 8$. Oblicz współczynniki uwarunkowania macierzy korzystając\n",
    "z normy kolumnowej, spektralnej oraz wierszowej. Co na ich podstawie można powiedzieć o uwarunkowaniu tej macierzy?   \n",
    "**Wskazówka:** Elementy macierzy Hilberta są określone przez wzór $h_{i,j}=\\frac{1}{i+j-1}$."
   ]
  },
  {
   "cell_type": "code",
   "execution_count": 223,
   "metadata": {},
   "outputs": [
    {
     "name": "stdout",
     "output_type": "stream",
     "text": [
      "Macierz Hilberta 8x8:\n",
      "[[1.   0.5  0.33 0.25 0.2  0.17 0.14 0.12]\n",
      " [0.5  0.33 0.25 0.2  0.17 0.14 0.12 0.11]\n",
      " [0.33 0.25 0.2  0.17 0.14 0.12 0.11 0.1 ]\n",
      " [0.25 0.2  0.17 0.14 0.12 0.11 0.1  0.09]\n",
      " [0.2  0.17 0.14 0.12 0.11 0.1  0.09 0.08]\n",
      " [0.17 0.14 0.12 0.11 0.1  0.09 0.08 0.08]\n",
      " [0.14 0.12 0.11 0.1  0.09 0.08 0.08 0.07]\n",
      " [0.12 0.11 0.1  0.09 0.08 0.08 0.07 0.07]]\n",
      "\n",
      "Norma pierwsza (kolumnowa): 33872790820.23\n",
      "Norma nieskończoności (wierszowa): 33872790819.49\n",
      "Norma druga (spektralna - odchylenie standardowe): 15257575252.82\n"
     ]
    }
   ],
   "source": [
    "size = 8\n",
    "hilbert = np.array(\n",
    "    [[1/(i+j-1) for i in range(1, size+1)] for j in range (1, size+1)]\n",
    ")\n",
    "\n",
    "print(\"Macierz Hilberta {}x{}:\\n\".format(size, size), np.array_str(hilbert, precision=2), \"\\n\", sep=\"\")\n",
    "\n",
    "print(\"Norma pierwsza (kolumnowa): {:.2f}\".format(np.linalg.cond(hilbert, 1)))\n",
    "print(\"Norma nieskończoności (wierszowa): {:.2f}\".format(np.linalg.cond(hilbert, np.inf)))\n",
    "print(\"Norma druga (spektralna - odchylenie standardowe): {:.2f}\".format(np.linalg.cond(hilbert)))"
   ]
  },
  {
   "cell_type": "markdown",
   "metadata": {},
   "source": [
    "Na ich podstawie możemy stwierdzić że macierz ta jest bardzo źle uwarunkowana. Zgadza się to z założeniem macierzy Hilberta."
   ]
  },
  {
   "cell_type": "markdown",
   "metadata": {},
   "source": [
    "***Zadanie 3***<br>\n",
    "Dane jest $n = 20$. Używając funkcji <i>linspace</i> zdefiniuj wektor $t =\\left[\\begin{matrix} t_0 & \\ldots & t_{n-1}\\end{matrix}\\right]^T$, którego wartości należą do przedziału $[0,1]$ oraz wektor $b =\\left[\\begin{matrix}\n",
    "\\cos(4t_0) & \\ldots & \\cos(4t_{n-1})\\end{matrix}\\right]^T$. Następnie wygeneruj macierz $A$ daną wzorem:\n",
    "\n",
    "$\\left[\\begin{matrix}\n",
    "1 & t_0 & t_{0}^{2} & \\cdots & t_{0}^{n-1} \\\\\n",
    "1 & t_1 & t_{1}^{2} & \\cdots & t_{1}^{n-1} \\\\\n",
    "1 & t_2 & t_{2}^{2} & \\cdots & t_{2}^{n-1} \\\\\n",
    "\\vdots & \\vdots & \\vdots & \\ddots & \\vdots \\\\\n",
    "1 & t_{n-1} & t_{n-1}^{2} & \\cdots & t_{m-1}^{n-1} \n",
    "\\end{matrix}\\right]$\n",
    "  \n",
    "**Wskazówka**: Do definicji macierzy $A$ można użyć funkcji [vander](https://docs.scipy.org/doc/numpy-1.13.0/reference/generated/numpy.vander.html) oraz [fliplr](https://docs.scipy.org/doc/numpy-1.15.0/reference/generated/numpy.fliplr.html).  \n",
    "\n",
    "Rozwiąż układ równań $Ax=b$ za pomocą następujacych metod:\n",
    "1. Metody [solve](https://docs.scipy.org/doc/numpy/reference/generated/numpy.linalg.solve.html) z pakietu numpy.\n",
    "2. Metody rozkładu QR rozwiązywania układów równań. Do dokonania rozkładu QR w Pythonie używa się funkcji [qr](https://docs.scipy.org/doc/numpy-1.15.1/reference/generated/numpy.linalg.qr.html), natomiast do rozwiązywania układu równań z macierzą trójkątną służy funkcja [solve_triangular](https://docs.scipy.org/doc/scipy/reference/generated/scipy.linalg.solve_triangular.html).\n",
    "3. Domyślnej dla Pythona metody rozwiązywania układów równań z macierzą prostokątną [lstsq](https://docs.scipy.org/doc/numpy-1.13.0/reference/generated/numpy.linalg.lstsq.html#numpy-linalg-lstsq). Sprawdź, jak ta metoda zachowuje się w przypadku układu z macierzą kwadratową.\n",
    "4. Porównaj czasy wykonania wszystkich metod ze sobą.\n",
    "5. <b>Porównaj jakość otrzymanych wyników</b>. Do porównania możesz zastosować np. normę $||r||$ gdzie $r$ zdefiniowane jest jako $r=b-Ax$ (tzw. residuum)."
   ]
  },
  {
   "cell_type": "code",
   "execution_count": 226,
   "metadata": {},
   "outputs": [
    {
     "name": "stdout",
     "output_type": "stream",
     "text": [
      "1. Czas wykonania numpy.linalg.solve:            0.00000002ms\n",
      "2. Czas wykonania scipy.linalg.solve_triangular: 0.00000009ms\n",
      "3. Czas wykonania numpy.linalg.lstsq:            0.00000006ms\n",
      "\n",
      "1. Jakoś wyniku numpy.linalg.solve:            ||r|| = 1.797173521111972e-14\n",
      "2. Jakoś wyniku scipy.linalg.solve_triangular: ||r|| = 1.1629586182948515e-14\n",
      "3. Jakoś wyniku numpy.linalg.lstsq:            ||r|| = 1.597333376679444e-14\n"
     ]
    }
   ],
   "source": [
    "#0. Define test data:\n",
    "t = np.linspace(0, 1, 20)\n",
    "A = np.vander(t, increasing=True)\n",
    "b = np.array([math.cos(4*t[i]) for i in range(0, 20)])\n",
    "\n",
    "#1. numpy.linalg.solve:\n",
    "def s1(A, b):\n",
    "    return np.linalg.solve(A, b)\n",
    "\n",
    "#2. scipy.linalg.solve_triangular:\n",
    "def s2(A, b):  \n",
    "    Q, R = np.linalg.qr(A)\n",
    "    #Ax = b  ==> QRx = b  ==>  Rx = Q^-1 * b  ==>  Rx = Q^T * b\n",
    "    return scipy.linalg.solve_triangular(R, np.dot(Q.T, b))\n",
    "\n",
    "#3. numpy.linalg.lstsq:\n",
    "def s3(A, b):\n",
    "    return np.linalg.lstsq(A, b, rcond=None)[0]\n",
    "\n",
    "#Check whether all the solutions are correct or not:\n",
    "x1 = s1(A,b)\n",
    "x2 = s2(A,b)\n",
    "x3 = s3(A,b)\n",
    "# print(A.dot(x1), A.dot(x2), A.dot(x3), b, sep=\"\\n\")\n",
    "\n",
    "#4. Porównaj czasy wykonania wszystkich metod ze sobą:\n",
    "time_s1 = timeit.timeit('s1(A,b)', setup='from __main__ import s1, A, b', number=1000) #Runs the test 1000 times\n",
    "time_s2 = timeit.timeit('s2(A,b)', setup='from __main__ import s2, A, b', number=1000)\n",
    "time_s3 = timeit.timeit('s3(A,b)', setup='from __main__ import s3, A, b', number=1000)\n",
    "print(\"1. Czas wykonania numpy.linalg.solve:            {:.8f}ms\".format(time_s1/1000000)) #Convert to ms and\n",
    "print(\"2. Czas wykonania scipy.linalg.solve_triangular: {:.8f}ms\".format(time_s2/1000000)) #Divide by 1000 runs\n",
    "print(\"3. Czas wykonania numpy.linalg.lstsq:            {:.8f}ms\\n\".format(time_s3/1000000))\n",
    "\n",
    "\n",
    "#5. Porównaj jakość otrzymanych wyników.\n",
    "def residuum(A, b, x):\n",
    "    result = 0\n",
    "    for cell in b - A.dot(x):\n",
    "        result += abs(cell)\n",
    "    return result\n",
    "\n",
    "print(\"1. Jakoś wyniku numpy.linalg.solve:            ||r|| = {}\".format(residuum(A, b, x1))) \n",
    "print(\"2. Jakoś wyniku scipy.linalg.solve_triangular: ||r|| = {}\".format(residuum(A, b, x2)))\n",
    "print(\"3. Jakoś wyniku numpy.linalg.lstsq:            ||r|| = {}\".format(residuum(A, b, x3)))"
   ]
  },
  {
   "cell_type": "markdown",
   "metadata": {},
   "source": [
    "Residuum ( $||b-Ax||$ ) wszystkich trzech rozwiązań jest tego samego rzędu wielkości. Najwolniejsza jest metoda z dekompozycją QR."
   ]
  },
  {
   "cell_type": "markdown",
   "metadata": {},
   "source": [
    "***Zadanie 4***  \n",
    "Wygeneruj macierz $A$ o wymiarach $500 \\times 500$ w następujący sposób:\n",
    "1. Umieść na głównej przekątnej liczbę 1.\n",
    "2. Pozostałe miejsca w macierzy uzupełnij liczbami z przedziału $[-1,1]$ tak by uzyskać macierz symetryczną ($A = A^{\\mathrm{T}}$).\n",
    "3. W opracowywanej macierzy zastąp zerem wszystkie wartości które spełniają warunek $|a_{ij}|> \\tau$, poza tymi które znajdują się na diagonalnej.\n",
    "\n",
    "**Wskazówka:** Do szybkiej konstrukcji macierzy $A$ można wykorzystać funkcje: [ones](https://docs.scipy.org/doc/numpy-1.15.1/reference/generated/numpy.ones.html), [diag](https://docs.scipy.org/doc/numpy-1.15.1/reference/generated/numpy.diag.html?highlight=diag#numpy.diag), [uniform](https://docs.scipy.org/doc/numpy-1.15.1/reference/generated/numpy.random.uniform.html?highlight=uniform#numpy.random.uniform), [tril](https://docs.scipy.org/doc/numpy-1.13.0/reference/generated/numpy.tril.html), [logical_not](https://docs.scipy.org/doc/numpy-1.15.1/reference/generated/numpy.logical_not.html?highlight=logical_not#numpy.logical_not)\n",
    "\n",
    "Po wygenerowaniu macierzy $A$ wylosuj wektor $b$, którego wartości również należą do przedziału $[-1,1]$. Dla układu $Ax=b$ wykonaj następujące zadania:\n",
    "1. Sprawdź, jak zachowuje się współczynnik uwarunkowania macierzy w zależności od wartości $\\tau$, dla $\\tau \\in \\{ 0.01, 0.05, 0.1, 0.2, 0.5, 0.75\\}$. Narysuj wykres zależności współczynnika uwarunkowania macierzy od wartości $\\tau$.\n",
    "2. Dla wszystkich $\\tau$ rozwiąż układ równań przy pomocy funkcji: [solve](https://docs.scipy.org/doc/numpy/reference/generated/numpy.linalg.solve.html), [bicg](https://docs.scipy.org/doc/scipy/reference/generated/scipy.sparse.linalg.bicg.html) oraz [gmres](https://docs.scipy.org/doc/scipy/reference/generated/scipy.sparse.linalg.gmres.html). Na potrzeby dwóch ostatnich metod skorzysaj z funkcji [csr_matrix](https://docs.scipy.org/doc/scipy/reference/generated/scipy.sparse.csr_matrix.html#scipy.sparse.csr_matrix) w celu wygenerowania [macierzy rzadkich](https://pl.wikipedia.org/wiki/Macierz_rzadka) bazujących na macierzach $A$.\n",
    "3. Sprawdź, jak uwarunkowanie macierzy wpływa na jakość rozwiązania układu przez wszystkie metody oraz na czas ich wykonania. <b>Swoje obserwacje przedstaw na odpowiednich wykresach.</b>"
   ]
  },
  {
   "cell_type": "code",
   "execution_count": 225,
   "metadata": {},
   "outputs": [
    {
     "name": "stdout",
     "output_type": "stream",
     "text": [
      "[[1. 0. 0. ... 0. 0. 0.]\n",
      " [0. 1. 0. ... 0. 0. 0.]\n",
      " [0. 0. 1. ... 0. 0. 0.]\n",
      " ...\n",
      " [0. 0. 0. ... 1. 0. 0.]\n",
      " [0. 0. 0. ... 0. 1. 0.]\n",
      " [0. 0. 0. ... 0. 0. 1.]]\n"
     ]
    }
   ],
   "source": [
    "#Generating matrix A:\n",
    "#1.\n",
    "A = np.diag(np.ones(500))\n"
   ]
  },
  {
   "cell_type": "code",
   "execution_count": null,
   "metadata": {},
   "outputs": [],
   "source": []
  }
 ],
 "metadata": {
  "kernelspec": {
   "display_name": "Python 3",
   "language": "python",
   "name": "python3"
  },
  "language_info": {
   "codemirror_mode": {
    "name": "ipython",
    "version": 3
   },
   "file_extension": ".py",
   "mimetype": "text/x-python",
   "name": "python",
   "nbconvert_exporter": "python",
   "pygments_lexer": "ipython3",
   "version": "3.7.0"
  }
 },
 "nbformat": 4,
 "nbformat_minor": 2
}
