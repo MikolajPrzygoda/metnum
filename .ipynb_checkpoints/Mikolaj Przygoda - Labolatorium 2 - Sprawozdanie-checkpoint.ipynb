{
 "cells": [
  {
   "cell_type": "markdown",
   "metadata": {},
   "source": [
    "<a id='zad1'></a>\n",
    "***Zadanie 1.***   \n",
    "Oblicz błąd względny i bezwzględny aproksymacji liczby $p$ przy pomocy $p^{*}$:\n",
    "  \n",
    "1. $p=\\pi,\\ p^{*}=\\frac{22}{7}$  \n",
    "2. $p=\\textrm{e},\\ p^{*}=2.718$  \n",
    "3. $p=10^{\\pi},\\ p^{*}=1397$  \n",
    "4. $p=9!,\\ p^{*}=\\sqrt{18\\pi}(\\frac{9}{\\textrm{e}})^9$"
   ]
  },
  {
   "cell_type": "code",
   "execution_count": 1,
   "metadata": {},
   "outputs": [
    {
     "name": "stdout",
     "output_type": "stream",
     "text": [
      "Błąd względny: 0.0402%, błąd bezwzględny: 0.001264\n",
      "Błąd względny: 0.0104%, błąd bezwzględny: 0.000282\n",
      "Błąd względny: 0.8332%, błąd bezwzględny: 11.544269\n",
      "Błąd względny: 0.9213%, błąd bezwzględny: 3343.127158\n"
     ]
    }
   ],
   "source": [
    "import math\n",
    "\n",
    "p = [math.pi, math.e, 10**math.pi, math.factorial(9)]\n",
    "_p = [22/7, 2.718, 1397, (18*math.pi)**(1/2) * (9/math.e)**9]\n",
    "\n",
    "for i in range(0, len(p)):\n",
    "    print('Błąd względny: {:.4%}, błąd bezwzględny: {:.6f}'.format(abs(p[i] - _p[i]) / abs(p[i]), abs(p[i] - _p[i])))"
   ]
  },
  {
   "cell_type": "markdown",
   "metadata": {},
   "source": [
    "***Zadanie 2.***  \n",
    "Dany jest ciąg:  \n",
    "  \n",
    "$G(p)=\\cfrac{1}{p}\\left[10^{p}\\left(1+p\\pi \\cdot 10^{-p}\\right)-10^{p}\\right],\\ p=1,2,3,\\dots,n $\n",
    "  \n",
    "gdzie liczba $\\pi$ jest brana z dokładnością do 15 miejsc po przecinku. W tym celu należy użyć funkcji *[round](https://docs.scipy.org/doc/numpy-1.13.0/reference/generated/numpy.round_.html)*.\n",
    "  \n",
    "Napisz funkcję, która umożliwi obliczenie $n$ pierwszych wyrazów tego ciągu i zwróci je w postaci wektora. Analizując rozwiązania odpowiedz na następujące pytania:  \n",
    "1. Czy wartość $G(p)$ obliczona w sposób analityczny zależy od $p$?\n",
    "2. Oblicz błąd bezwzględny i względny otrzymanych wyników i przedstaw je na wykresie w zależności od $n$ - wartość błędu przedstaw w skali logarytmicznej.\n",
    "3. Jak zmienia się błąd w zależności od $n$ i co można stwierdzić na podstawie jego zachowania? \n",
    "4. Jaki rodzaj błędu tutaj występuje?"
   ]
  },
  {
   "cell_type": "code",
   "execution_count": 2,
   "metadata": {},
   "outputs": [
    {
     "name": "stdout",
     "output_type": "stream",
     "text": [
      "[3.141592653589793, 3.1415926535897967, 3.14159265358982, 3.1415926535901235, 3.1415926535904877, 3.1415926535846666, 3.1415926537343433, 3.1415926534682512, 3.1415926615397134, 3.1415927886962893, 3.141591852361506, 3.1416015625, 3.1415264423076925, 3.141741071428571, 3.1416666666666666, 3.25, 2.8235294117647056, 0.0, 0.0, 0.0]\n"
     ]
    }
   ],
   "source": [
    "pi = round(math.pi, 15)\n",
    "\n",
    "def G(p: int) -> float:\n",
    "    return 1/p * (10**p * (1 + p*pi * 10**(-p)) - 10**p)\n",
    "\n",
    "def getNTerms(n: int) -> []:\n",
    "    return [G(i) for i in range(1, n+1)]\n",
    "\n",
    "print(getNTerms(20))"
   ]
  },
  {
   "cell_type": "markdown",
   "metadata": {},
   "source": [
    "1. Wartość $G(p)$ nie zależy od parametru $p$\n",
    "\\begin{align*}\n",
    "G(p) &= \\cfrac{1}{p}\\left[10^{p}\\left(1+p\\pi \\cdot 10^{-p}\\right)-10^{p}\\right] \\\\\n",
    "G(p) &= \\cfrac{1}{p}\\left(10^{p}+p\\pi -10^{p}\\right) \\\\\n",
    "G(p) &= \\cfrac{1}{p} \\cdot p\\pi \\\\\n",
    "G(p) &= \\pi\n",
    "\\end{align*}"
   ]
  },
  {
   "cell_type": "code",
   "execution_count": 22,
   "metadata": {},
   "outputs": [
    {
     "data": {
      "image/png": "[encoded data removed]",
      "text/plain": [
       "<Figure size 432x288 with 1 Axes>"
      ]
     },
     "metadata": {
      "needs_background": "light"
     },
     "output_type": "display_data"
    }
   ],
   "source": [
    "# 2. Oblicz błąd bezwzględny i względny otrzymanych wyników i przedstaw je na wykresie w zależności \n",
    "# od $n$ -wartość błędu przedstaw w skali logarytmicznej.\n",
    "\n",
    "import matplotlib.pyplot as plt\n",
    "\n",
    "x = [i for i in range(1, 26)]\n",
    "y_abs = [abs(pi - G(i)) for i in x]\n",
    "y_rel = [abs(pi - G(i)) / pi for i in x]\n",
    "\n",
    "plt.xlabel('x')\n",
    "plt.ylabel('błąd', rotation=0, ha=\"right\")\n",
    "\n",
    "plt.semilogy(x, y_rel, 'r.')\n",
    "plt.semilogy(x, y_abs, 'b.')\n",
    "plt.legend([\"Błąd względny\", \"Błąd bezwględny\"])\n",
    "\n",
    "plt.show()"
   ]
  },
  {
   "cell_type": "markdown",
   "metadata": {},
   "source": [
    "3. Jak zmienia się błąd w zależności od $n$ i co można stwierdzić na podstawie jego zachowania?\n",
    "\n",
    "Rośnie wraz z $n$ do momentu aż $n = 18$\n",
    " \n",
    "4. Jaki rodzaj błędu tutaj występuje?\n",
    "\n",
    "W wyniku działania na liczbach o dużej rozbieżności występuje tutaj błąd zaokrąglenia ($1 + 10^{-15} \\neq 1$, $1 + 10^{-16} = 1$)"
   ]
  },
  {
   "cell_type": "markdown",
   "metadata": {},
   "source": [
    "***Zadanie 3.***  \n",
    "Liczbę $\\textrm{e}$ możemy zdefiniować jako $\\sum\\limits_{n=0}^{\\infty} \\frac{1}{n!}$. Oblicz błąd względny i bezwzględny aproksymacji liczby $\\textrm{e}$ poprzez $\\textrm{e}^{*}$ w przypadku gdy:\n",
    "1. $\\textrm{e}^{*}=\\sum\\limits_{n=0}^{5} \\frac{1}{n!}$\n",
    "2. $\\textrm{e}^{*}=\\sum\\limits_{n=0}^{10} \\frac{1}{n!}$"
   ]
  },
  {
   "cell_type": "code",
   "execution_count": 31,
   "metadata": {},
   "outputs": [
    {
     "name": "stdout",
     "output_type": "stream",
     "text": [
      "(2.716666666666666) Błąd bezwzględny: 0.0016151618, błąd względny: 0.059418%\n",
      "(2.718281801146385) Błąd bezwzględny: 0.0000000273, błąd względny: 0.000001%\n"
     ]
    }
   ],
   "source": [
    "def e_aprox(n):\n",
    "    return sum([1/math.factorial(i) for i in range(0, n+1)])\n",
    "\n",
    "_e = [e_aprox(5), e_aprox(10)]\n",
    "\n",
    "for e in _e:\n",
    "    print(\"({:.16}) Błąd bezwzględny: {:.10f}, błąd względny: {:.6%}\".format(e, abs(math.e - e), abs(math.e - e)/math.e))"
   ]
  },
  {
   "cell_type": "markdown",
   "metadata": {},
   "source": [
    "***Zadanie 4.***  \n",
    "Znajdź najmniejszą dodatnią wartość <i>b</i>, dla której poniższy kod wypisze poprawny wynik działania. Na tej podstawie określ liczbę bitów mantysy domyślnego typu zmiennoprzecinkowego w Pythonie. Z jakim rodzajem błędu numerycznego i na którym etapie mamy tu do czynienia?"
   ]
  },
  {
   "cell_type": "code",
   "execution_count": 40,
   "metadata": {},
   "outputs": [
    {
     "name": "stdout",
     "output_type": "stream",
     "text": [
      "Liczba bitów mantysy: 52\n"
     ]
    }
   ],
   "source": [
    "a, b, n = 1, 1, 0\n",
    "\n",
    "while(a + b != a):\n",
    "    b /= 2\n",
    "    n += 1\n",
    "\n",
    "print(\"Liczba bitów mantysy:\", n-1)"
   ]
  },
  {
   "cell_type": "markdown",
   "metadata": {},
   "source": [
    "Występuje tutaj 'underflow', wartość b jest mniejsza niż najmniejsza możliwa liczba zmiennoprzecinkowa w pythonie i w związku z tym przyjmuje wartość 0"
   ]
  },
  {
   "cell_type": "markdown",
   "metadata": {},
   "source": [
    "***Zadanie 5.***  \n",
    "Wiedząc, że\n",
    "$\\begin{aligned}\n",
    "\\sum_{n=1}^{\\infty} \\cfrac{1}{n^2} = \\cfrac{1}{6} \\pi^2\n",
    "\\end{aligned}$,\n",
    "napisz jednolinijkowy kod w Pythonie obliczający przybliżenie liczby pi (nie korzystaj ze stałych <i>numpy.pi</i>, <i>math.pi</i> itp.). Z jakimi rodzajami błędów numerycznych mamy tu do czynienia?"
   ]
  },
  {
   "cell_type": "code",
   "execution_count": 57,
   "metadata": {},
   "outputs": [],
   "source": [
    "pi = lambda n : math.sqrt( 6 * sum([i**(-2) for i in range(1, n)]) )\n",
    "\n",
    "for i in range(1, 10):\n",
    "    print(pi(i))"
   ]
  },
  {
   "cell_type": "markdown",
   "metadata": {},
   "source": [
    "Jest to błąd obcięcia"
   ]
  }
 ],
 "metadata": {
  "kernelspec": {
   "display_name": "Python 3",
   "language": "python",
   "name": "python3"
  },
  "language_info": {
   "codemirror_mode": {
    "name": "ipython",
    "version": 3
   },
   "file_extension": ".py",
   "mimetype": "text/x-python",
   "name": "python",
   "nbconvert_exporter": "python",
   "pygments_lexer": "ipython3",
   "version": "3.7.0"
  }
 },
 "nbformat": 4,
 "nbformat_minor": 2
}
