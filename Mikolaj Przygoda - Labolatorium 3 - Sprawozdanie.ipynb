{
 "cells": [
  {
   "cell_type": "markdown",
   "metadata": {},
   "source": [
    "<b>Zagadnienia</b>  \n",
    "* Twierdzenie o wartości średniej\n",
    "* Metody iteracyjne i ich zbieżność   \n",
    "Mówimy że metoda jest rzędu $p$, gdy $ \\lim_{k \\to \\inf} \\frac{|{\\epsilon_{k+1}}|}{|{\\epsilon_k}|^p} = c$, dla ${\\epsilon_k}=x_{k+1}-x_k$.\n",
    " - gdy $p=1$ mówimy że metoda jest zbieżna liniowo.\n",
    " - gdy $p=2$ mówimy że metoda jest zbieżna kwadratowo,  \n",
    " - gdy $p>1 \\land p<2$ mówimy że metoda jest zbieżna superliniowo.  \n",
    "\n",
    "* Metoda Bisekcji\n",
    "* Metoda Newtona-Raphson'a\n",
    "* Metoda Siecznych\n",
    "\n",
    "W poniższych zadaniach rozważana będzie funkcja:   \n",
    "$ f(x) = \\textrm{e}^{-2x} + x^2 - 1 $  "
   ]
  },
  {
   "cell_type": "code",
   "execution_count": 1,
   "metadata": {},
   "outputs": [],
   "source": [
    "f = lambda x : math.e**(-2*x) + x**2 - 1\n",
    "df = lambda x : 2*x - 2*math.e**(-2*x)\n",
    "ddf = lambda x : 4*math.e**(-2*x)+2"
   ]
  },
  {
   "cell_type": "markdown",
   "metadata": {},
   "source": [
    "***Zadanie 1***\n",
    "\n",
    "Korzystając z pakietu matplotlib wykonaj wykresy funkcji $f$ oraz jej pierwszej i drugiej pochodnej, wszystkie trzy wykresy zamieść na jednym rysunku. Niezapomnij o podipsaniu osi i utworzeniu legendy. Na podstawie wykresów oszacuj wartości pierwiastków równania $f(x)=0$ oraz wyznacz odpowiednie przedziały dla metod bisekcji, siecznych i Newtona-Raphson'a (stycznych)."
   ]
  },
  {
   "cell_type": "code",
   "execution_count": 13,
   "metadata": {},
   "outputs": [
    {
     "data": {
      "image/png": "[encoded data removed]",
      "text/plain": [
       "<Figure size 432x288 with 1 Axes>"
      ]
     },
     "metadata": {
      "needs_background": "light"
     },
     "output_type": "display_data"
    }
   ],
   "source": [
    "import math\n",
    "import numpy as np\n",
    "import matplotlib.pyplot as plt\n",
    "\n",
    "x = [i for i in np.linspace(-2, 5)]\n",
    "y = [f(i) for i in x]\n",
    "dy = [df(i) for i in x]\n",
    "ddy = [ddf(i) for i in x]\n",
    "\n",
    "plt.ylim(-2, 10)\n",
    "\n",
    "plt.xlabel('x')\n",
    "plt.ylabel('y')\n",
    "\n",
    "plt.plot(x, y, label=\"y\")\n",
    "plt.plot(x, dy, label=\"y'\")\n",
    "plt.plot(x, ddy, label=\"y''\")\n",
    "plt.legend()\n",
    "\n",
    "plt.axhline(color=\"black\")\n",
    "plt.axvline(color=\"black\")\n",
    "plt.grid()\n",
    "\n",
    "plt.show()"
   ]
  },
  {
   "cell_type": "markdown",
   "metadata": {},
   "source": [
    "1. Oszacowanie: $f\\left(x\\right) = 0 \\implies x \\in \\left\\{ 0, \\frac{9}{10} \\right\\}$\n",
    "2. Przedziały: \n",
    "    - metoda bijekcji: $a = -1.1, b = 0.15$\n",
    "    - metoda Newtona-Raphsona: $x = -1.1$\n",
    "    - metoda siecznych: $x_1 = -1.1, x_2 = -0.5$"
   ]
  },
  {
   "cell_type": "markdown",
   "metadata": {},
   "source": [
    "***Zadanie 2***\n",
    "1. Napisz własną funkcję poszukującą miejsc zerowych metodą bisekcji. Metoda powinna przyjmować jako argumenty: funkcję, której pierwiastka poszukujemy, punkty krańcowe przedziału początkowego, zadaną dokładność i maksymalną liczbę iteracji. Poza pierwiastkiem funkcja powinna zwracać ilość wykonanych iteracji.\n",
    "2. Wypisz warunki wystarczające zbieżności metody w przedziale izolacji pierwiastka.\n",
    "3. Korzystając z własnej implementacji znajdź miejsce zerowe funkcji $f$ z warunkiem stopu: $|x_{k+1} - x_{k}| \\leq 10^{-10}$.\n",
    "4. Porównaj rezultat oraz czas działania z metodą *bisect* z pakietu [scipy](https://docs.scipy.org/doc/scipy-0.14.0/reference/generated/scipy.optimize.bisect.html). Do pomiaru czasu możesz wykorzystać pakiet [time](https://docs.python.org/3/library/time.html)."
   ]
  },
  {
   "cell_type": "code",
   "execution_count": 3,
   "metadata": {},
   "outputs": [],
   "source": [
    "# Zadanie 2.1\n",
    "\n",
    "# Returns the found root of a function between a and b, and the number of iterations it took to find it.\n",
    "# Stops looking for solution when difference between roots from two consecutive iterations is smaller \n",
    "# than resolution parameter or when iterations reached maxIterations.\n",
    "def findRootByBisection(f, a: float, b: float, resolution: float, maxIterations: int) -> (float, int):\n",
    "    if(f(a)*f(b) >= 0):\n",
    "        raise Exception('Wrong interval given, f(a) and f(b) must be of different signs.')\n",
    "    if(b <= a):\n",
    "        raise Exception('Wrong interval given, a should be the lower end of interval.')\n",
    "    \n",
    "    iteration = 1\n",
    "    width = abs(b-a)\n",
    "    \n",
    "    while(iteration < maxIterations):\n",
    "        # Get the middle of interval\n",
    "        c = (a+b)/2\n",
    "        \n",
    "        # Check if we hit the root and for end condition.\n",
    "        if(f(c) == 0 or width/4 < resolution):\n",
    "            return (c, iteration)\n",
    "            \n",
    "        # Root in [a, c] interval\n",
    "        if(f(a)*f(c) < 0):\n",
    "            b = c\n",
    "        # Root in [c, b] interval\n",
    "        else:\n",
    "            a = c\n",
    "            \n",
    "        iteration += 1\n",
    "        width /= 2\n",
    "        \n",
    "    return (c, iteration)"
   ]
  },
  {
   "cell_type": "markdown",
   "metadata": {},
   "source": [
    "Zadanie 2.2: \n",
    "Warunki wystarczające dla zbieżności metody bisekcji:\n",
    "1. $ f\\left(a\\right) \\cdot f\\left(b\\right) < 0 $ - Wartości funkcji $f$ na końcach podanego przedziału są różnych znaków\n",
    "2. $ a < b $ - $a$ jest początkiem przedziału"
   ]
  },
  {
   "cell_type": "code",
   "execution_count": 4,
   "metadata": {},
   "outputs": [
    {
     "name": "stdout",
     "output_type": "stream",
     "text": [
      "Miejsce zerowe f(x) znalezione metoda bijekcji: 5.8207477726668354e-12\n"
     ]
    }
   ],
   "source": [
    "# Zadanie 2.3\n",
    "print('Miejsce zerowe f(x) znalezione metoda bijekcji: {}'\n",
    "          .format(findRootByBisection(f, a=-1.1, b=0.15, resolution=10**-10, maxIterations=1000)[0])\n",
    ")"
   ]
  },
  {
   "cell_type": "code",
   "execution_count": 5,
   "metadata": {},
   "outputs": [
    {
     "name": "stdout",
     "output_type": "stream",
     "text": [
      "myBisect: 0.10684ms, scypiBisect: 0.061285ms\n"
     ]
    }
   ],
   "source": [
    "# Zadanie 2.4\n",
    "from scipy.optimize import bisect as scipyBisect\n",
    "from timeit import default_timer as timer\n",
    "\n",
    "start = timer()\n",
    "root = findRootByBisection(f, -1.1, 0.15, 10**-10, 1000)[0]\n",
    "myBisectTime = timer() - start\n",
    "\n",
    "start = timer()\n",
    "rootByScypi = scipyBisect(f, -1.1, 0.15, xtol = 10**-10, maxiter=1000)\n",
    "scipyBisectTime = timer() - start\n",
    "\n",
    "print('myBisect: {:.5}ms, scypiBisect: {:.5}ms'.format(myBisectTime*1000, scipyBisectTime*1000))"
   ]
  },
  {
   "cell_type": "markdown",
   "metadata": {},
   "source": [
    "***Zadanie 3***\n",
    "1. Napisz własną funkcję poszukującą miejsc zerowych metodą stycznych (Newtona-Raphsona). Metoda powinna przyjmować jako argumenty: funkcję, której pierwiastka poszukujemy, jej pochodną, punkty startowy, zadaną dokładność i maksymalną liczbę iteracji. Poza pierwiastkiem funkcja powinna zwracać ilość wykonanych iteracji.\n",
    "2. Wypisz warunki wystarczające zbieżności metody dla ustalonego punktu startowego.\n",
    "3. Korzystając z własnej implementacji znajdź miejsce zerowe funkcji $f$ z warunkiem stopu: $|x_{k+1} - x_{k}| \\leq 10^{-10}$.\n",
    "4. Porównaj rezultat oraz czas działania z metodą *newton* z pakietu [scipy](https://docs.scipy.org/doc/scipy/reference/generated/scipy.optimize.newton.html)."
   ]
  },
  {
   "cell_type": "code",
   "execution_count": 6,
   "metadata": {},
   "outputs": [],
   "source": [
    "# Zadanie 3.1\n",
    "\n",
    "# Returns the found root of a function given starting x, and the number of iterations it took to find it.\n",
    "# Stops looking for solution when difference between roots from two consecutive iterations is smaller \n",
    "# than resolution paramter or when iterations reached maxIterations.\n",
    "def findRootByNewton_Raphson(f, df, x: float, resolution: float, maxIterations: int) -> (float, int):\n",
    "    iteration = 1\n",
    "    while(iteration < maxIterations):\n",
    "        dx = f(x)/df(x)\n",
    "        \n",
    "        if(abs(dx) < resolution):\n",
    "            return(x, iteration)\n",
    "            \n",
    "        x -= dx\n",
    "        iteration += 1\n",
    "        \n",
    "    return (x, iteration)"
   ]
  },
  {
   "cell_type": "markdown",
   "metadata": {},
   "source": [
    "Zadanie 3.2 - Warunki wystarczające zbieżności metody:\n",
    "1. $ f''(x) > 0, x \\in \\left(x_s;x_0\\right) \\vee x \\in \\left(x_0;x_s\\right) $ - Druga pochodna musi być dodatnia dla $x \\in \\left(x_s;x_0\\right)$ żeby metoda była na pewno zbieżna (funkcja musi być wypukła po drodze do miesjca zerowego)."
   ]
  },
  {
   "cell_type": "code",
   "execution_count": 7,
   "metadata": {},
   "outputs": [
    {
     "name": "stdout",
     "output_type": "stream",
     "text": [
      "Miejsce zerowe f(x) znalezione metodoą Newtona-Raphsona: -3.1773388719784757e-16\n"
     ]
    }
   ],
   "source": [
    "# Zadanie 3.3\n",
    "print('Miejsce zerowe f(x) znalezione metodoą Newtona-Raphsona: {}'\n",
    "          .format(findRootByNewton_Raphson(f, df, x=-1.1, resolution=10**-10, maxIterations=1000)[0])\n",
    ")"
   ]
  },
  {
   "cell_type": "code",
   "execution_count": 8,
   "metadata": {},
   "outputs": [
    {
     "name": "stdout",
     "output_type": "stream",
     "text": [
      "myBisect: 0.10971ms, scypiBisect: 0.11549ms\n"
     ]
    }
   ],
   "source": [
    "# Zadanie 3.4\n",
    "from scipy.optimize import newton as scipyNewtonRaphson\n",
    "\n",
    "start = timer()\n",
    "root = findRootByNewton_Raphson(f, df, -1.1, 10**-10, 1000)[0]\n",
    "myNewtonRaphsonTime = timer() - start\n",
    "\n",
    "start = timer()\n",
    "rootByScypi = scipyNewtonRaphson(f, -1.1, fprime=df, tol = 10**-10, maxiter=1000)\n",
    "scipyBisectTime = timer() - start\n",
    "\n",
    "print('myBisect: {:.5}ms, scypiBisect: {:.5}ms'.format(myNewtonRaphsonTime*1000, scipyBisectTime*1000))"
   ]
  },
  {
   "cell_type": "markdown",
   "metadata": {},
   "source": [
    "***Zadanie 4***\n",
    "1. Napisz własną funkcję poszukującą miejsc zerowych metodą siecznych. Metoda powinna przyjmować jako argumenty: funkcję, której pierwiastka poszukujemy, punkty startowy, zadaną dokładność i maksymalną liczbę iteracji. Poza pierwiastkiem funkcja powinna zwracać ilość wykonanych iteracji.\n",
    "2. Wypisz warunki wystarczające zbieżności metody dla ustalonego punktu startowego.\n",
    "3. Korzystając z własnej implementacji znajdź miejsce zerowe funkcji $f$  z warunkiem stopu: $|x_{k+1} - x_{k}| \\leq 10^{-10}$.\n",
    "4. Porównaj rezultat oraz czas działania z metodą *newton* z pakietu [scipy](https://docs.scipy.org/doc/scipy/reference/generated/scipy.optimize.newton.html).\n",
    "5. Porównaj liczbę iteracji i czas obliczeń dla wszystkich przeanalizowanych powyżej metod."
   ]
  },
  {
   "cell_type": "code",
   "execution_count": 9,
   "metadata": {},
   "outputs": [],
   "source": [
    "# Zadanie 4.1\n",
    "\n",
    "# Returns the found root of a function given two starting xs, and the number of iterations it took to find it.\n",
    "# Stops looking for solution when difference between roots from two consecutive iterations is smaller \n",
    "# than resolution paramter or when iterations reached maxIterations.\n",
    "def findRootBySecant(f, x1: float, x2: float, resolution: float, maxIterations: int) -> (float, int):\n",
    "    iteration = 1\n",
    "    while(iteration < maxIterations):\n",
    "        x = (x1 * f(x2) - x2 * f(x1)) / ( f(x2) - f(x1) )\n",
    "        \n",
    "        if(abs(x - x2) < resolution):\n",
    "            return(x, iteration)\n",
    "            \n",
    "        x1, x2 = x2, x\n",
    "        iteration += 1\n",
    "        \n",
    "    return (x, iteration)"
   ]
  },
  {
   "cell_type": "markdown",
   "metadata": {},
   "source": [
    "Zadanie 4.2 - Warunki wystarczające zbieżności metody: [źródło](https://en.wikipedia.org/wiki/Secant_method#Convergence)\n",
    "1. Funkcja $y\\left(x\\right)$ musi być podwójnie różniczkowalna.\n",
    "2. Szukany pierwiastek musi być o krotności równej 1.\n",
    "3. Początkowe dwie wartości muszą być 'odpowienio' blisko szukanego pierwiastka."
   ]
  },
  {
   "cell_type": "code",
   "execution_count": 10,
   "metadata": {},
   "outputs": [
    {
     "name": "stdout",
     "output_type": "stream",
     "text": [
      "Miejsce zerowe f(x) znalezione metodoą siecznych: 4.773043778713835e-17\n"
     ]
    }
   ],
   "source": [
    "# Zadanie 4.3\n",
    "print('Miejsce zerowe f(x) znalezione metodoą siecznych: {}'\n",
    "          .format(findRootBySecant(f, -1.1, -0.5, resolution=10**-10, maxIterations=1000)[0])\n",
    ")"
   ]
  },
  {
   "cell_type": "code",
   "execution_count": 11,
   "metadata": {},
   "outputs": [
    {
     "name": "stdout",
     "output_type": "stream",
     "text": [
      "myBisect: 0.073558ms, scypiBisect: 0.058199ms\n"
     ]
    }
   ],
   "source": [
    "# Zadanie 4.4\n",
    "\n",
    "start = timer()\n",
    "root = findRootBySecant(f, -1.1, -0.5, 10**-10, 1000)[0]\n",
    "mySecantTime = timer() - start\n",
    "\n",
    "start = timer()\n",
    "rootByScypi = scipyNewtonRaphson(f, -1.1, fprime=None, tol = 10**-10, maxiter=1000)\n",
    "scipySecantTime = timer() - start\n",
    "\n",
    "print('myBisect: {:.5}ms, scypiBisect: {:.5}ms'.format(mySecantTime*1000, scipySecantTime*1000))"
   ]
  },
  {
   "cell_type": "code",
   "execution_count": 12,
   "metadata": {},
   "outputs": [
    {
     "name": "stdout",
     "output_type": "stream",
     "text": [
      "Bisection:      time: 0.10353ms, iterations: 33,\n",
      "Newton-Raphson: time: 0.049794ms, iterations: 8,\n",
      "Secant:         time: 0.066535ms, iterations: 9.\n"
     ]
    }
   ],
   "source": [
    "start = timer()\n",
    "bisectionResults = findRootByBisection(f, -1.1, 0.15, 10**-10, 1000)\n",
    "bisectionTime = timer() - start\n",
    "\n",
    "start = timer()\n",
    "newtonResults = findRootByNewton_Raphson(f, df, -1.1, 10**-10, 1000)\n",
    "newtonTime = timer() - start\n",
    "\n",
    "start = timer()\n",
    "secantResults = findRootBySecant(f, -1.1, -0.5, 10**-10, 1000)\n",
    "secantTime = timer() - start\n",
    "\n",
    "print('Bisection:      time: {:.5}ms, iterations: {},'.format(bisectionTime*1000, bisectionResults[1]))\n",
    "print('Newton-Raphson: time: {:.5}ms, iterations: {},'.format(newtonTime*1000, newtonResults[1]))\n",
    "print('Secant:         time: {:.5}ms, iterations: {}.'.format(secantTime*1000, secantResults[1]))"
   ]
  },
  {
   "cell_type": "markdown",
   "metadata": {},
   "source": [
    "Jak widać metoda Newtona-Raphsona jest nawydajniejsza zarówno pod względem czasu wykonania jak i ilości iteracji, następna jest metoda siecznych i na końcu metoda bijekcji.\n",
    "\n",
    "Dane te zgadzają się z rzędami zbieżności tych metod:\n",
    "- Newton-Raphson: $p = 2$\n",
    "- Siecznych: $p = \\phi \\approx 1.618$\n",
    "- Bijekcji: $p = 1$"
   ]
  }
 ],
 "metadata": {
  "kernelspec": {
   "display_name": "Python 3",
   "language": "python",
   "name": "python3"
  },
  "language_info": {
   "codemirror_mode": {
    "name": "ipython",
    "version": 3
   },
   "file_extension": ".py",
   "mimetype": "text/x-python",
   "name": "python",
   "nbconvert_exporter": "python",
   "pygments_lexer": "ipython3",
   "version": "3.7.0"
  }
 },
 "nbformat": 4,
 "nbformat_minor": 2
}
